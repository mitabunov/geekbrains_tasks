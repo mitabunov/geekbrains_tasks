{
 "cells": [
  {
   "cell_type": "markdown",
   "metadata": {
    "colab_type": "text",
    "id": "Xljx8j0-_jXR"
   },
   "source": [
    "### * Домашнее задание: Многоклассовая классификация"
   ]
  },
  {
   "cell_type": "code",
   "execution_count": null,
   "metadata": {
    "colab": {},
    "colab_type": "code",
    "id": "GTEN0WUXEKEN"
   },
   "outputs": [],
   "source": [
    "from google.colab import drive\n",
    "drive.mount('/content/drive')"
   ]
  },
  {
   "cell_type": "code",
   "execution_count": 1,
   "metadata": {
    "colab": {},
    "colab_type": "code",
    "id": "n98J3UNxSLUd"
   },
   "outputs": [],
   "source": [
    "import pandas as pd\n",
    "import numpy as np\n",
    "import xgboost as xgb\n",
    "import matplotlib.pyplot as plt\n",
    "from sklearn.model_selection import train_test_split\n",
    "from sklearn.metrics import f1_score, accuracy_score, confusion_matrix\n",
    "from hyperopt import hp, tpe, space_eval\n",
    "from hyperopt.fmin import fmin\n",
    "\n"
   ]
  },
  {
   "cell_type": "code",
   "execution_count": 2,
   "metadata": {
    "colab": {},
    "colab_type": "code",
    "id": "DXp3cnrtXKh-"
   },
   "outputs": [],
   "source": [
    "\n",
    "import itertools\n",
    "import warnings\n",
    "warnings.simplefilter('ignore')"
   ]
  },
  {
   "cell_type": "markdown",
   "metadata": {
    "colab_type": "text",
    "id": "HrxZEq_-FHNq"
   },
   "source": [
    "## Предобработка данных"
   ]
  },
  {
   "cell_type": "code",
   "execution_count": 5,
   "metadata": {
    "colab": {},
    "colab_type": "code",
    "id": "_Vs8YR9eFgvy"
   },
   "outputs": [
    {
     "name": "stdout",
     "output_type": "stream",
     "text": [
      "<class 'pandas.core.frame.DataFrame'>\n",
      "RangeIndex: 115155 entries, 0 to 115154\n",
      "Data columns (total 20 columns):\n",
      "Exposure             115155 non-null float64\n",
      "LicAge               115155 non-null int64\n",
      "RecordBeg            115155 non-null object\n",
      "RecordEnd            59455 non-null object\n",
      "Gender               115155 non-null object\n",
      "MariStat             115155 non-null object\n",
      "SocioCateg           115155 non-null object\n",
      "VehUsage             115155 non-null object\n",
      "DrivAge              115155 non-null int64\n",
      "HasKmLimit           115155 non-null int64\n",
      "BonusMalus           115155 non-null int64\n",
      "ClaimAmount          115155 non-null float64\n",
      "ClaimInd             115155 non-null int64\n",
      "ClaimNbResp          115155 non-null float64\n",
      "ClaimNbNonResp       115155 non-null float64\n",
      "ClaimNbParking       115155 non-null float64\n",
      "ClaimNbFireTheft     115155 non-null float64\n",
      "ClaimNbWindscreen    115155 non-null float64\n",
      "OutUseNb             115155 non-null float64\n",
      "RiskArea             115155 non-null float64\n",
      "dtypes: float64(9), int64(5), object(6)\n",
      "memory usage: 17.6+ MB\n"
     ]
    }
   ],
   "source": [
    "# Загрузим набор данных\n",
    "\n",
    "# df = pd.read_csv('/content/drive/My Drive/Colab Notebooks/freMPL-R.csv', low_memory=False)\n",
    "df = pd.read_csv('/home/mikhail/Рабочий стол/ML_BI_042020/4/freMPL-R.csv', low_memory=False)\n",
    "\n",
    "df = df.loc[df.Dataset.isin([5, 6, 7, 8, 9])]\n",
    "df.drop('Dataset', axis=1, inplace=True)\n",
    "df.dropna(axis=1, how='all', inplace=True)\n",
    "df.drop_duplicates(inplace=True)\n",
    "df.reset_index(drop=True, inplace=True)\n",
    "df.info()"
   ]
  },
  {
   "cell_type": "code",
   "execution_count": 6,
   "metadata": {
    "colab": {},
    "colab_type": "code",
    "id": "AklwJWsoWnAV"
   },
   "outputs": [
    {
     "name": "stdout",
     "output_type": "stream",
     "text": [
      "Unique values of ClaimInd: [0]\n"
     ]
    },
    {
     "data": {
      "text/html": [
       "<div>\n",
       "<style scoped>\n",
       "    .dataframe tbody tr th:only-of-type {\n",
       "        vertical-align: middle;\n",
       "    }\n",
       "\n",
       "    .dataframe tbody tr th {\n",
       "        vertical-align: top;\n",
       "    }\n",
       "\n",
       "    .dataframe thead th {\n",
       "        text-align: right;\n",
       "    }\n",
       "</style>\n",
       "<table border=\"1\" class=\"dataframe\">\n",
       "  <thead>\n",
       "    <tr style=\"text-align: right;\">\n",
       "      <th></th>\n",
       "      <th>ClaimAmount</th>\n",
       "      <th>ClaimInd</th>\n",
       "    </tr>\n",
       "  </thead>\n",
       "  <tbody>\n",
       "    <tr>\n",
       "      <td>82</td>\n",
       "      <td>-74.206042</td>\n",
       "      <td>0</td>\n",
       "    </tr>\n",
       "    <tr>\n",
       "      <td>175</td>\n",
       "      <td>-1222.585196</td>\n",
       "      <td>0</td>\n",
       "    </tr>\n",
       "    <tr>\n",
       "      <td>177</td>\n",
       "      <td>-316.288822</td>\n",
       "      <td>0</td>\n",
       "    </tr>\n",
       "    <tr>\n",
       "      <td>363</td>\n",
       "      <td>-666.758610</td>\n",
       "      <td>0</td>\n",
       "    </tr>\n",
       "    <tr>\n",
       "      <td>375</td>\n",
       "      <td>-1201.600604</td>\n",
       "      <td>0</td>\n",
       "    </tr>\n",
       "  </tbody>\n",
       "</table>\n",
       "</div>"
      ],
      "text/plain": [
       "     ClaimAmount  ClaimInd\n",
       "82    -74.206042         0\n",
       "175 -1222.585196         0\n",
       "177  -316.288822         0\n",
       "363  -666.758610         0\n",
       "375 -1201.600604         0"
      ]
     },
     "execution_count": 6,
     "metadata": {},
     "output_type": "execute_result"
    }
   ],
   "source": [
    "NegClaimAmount = df.loc[df.ClaimAmount < 0, ['ClaimAmount','ClaimInd']]\n",
    "print('Unique values of ClaimInd:', NegClaimAmount.ClaimInd.unique())\n",
    "NegClaimAmount.head()"
   ]
  },
  {
   "cell_type": "code",
   "execution_count": 7,
   "metadata": {
    "colab": {},
    "colab_type": "code",
    "id": "R7laRWoCYF4V"
   },
   "outputs": [],
   "source": [
    "df.loc[df.ClaimAmount < 0, 'ClaimAmount'] = 0"
   ]
  },
  {
   "cell_type": "markdown",
   "metadata": {
    "colab_type": "text",
    "id": "6VuWyv7EGONj"
   },
   "source": [
    "Перекодируем переменные типа `object` с помощью числовых значений"
   ]
  },
  {
   "cell_type": "code",
   "execution_count": 8,
   "metadata": {
    "colab": {},
    "colab_type": "code",
    "id": "yivIrqGaGbSa"
   },
   "outputs": [],
   "source": [
    "def SeriesFactorizer(series):\n",
    "    series, unique = pd.factorize(series)\n",
    "    reference = {x: i for x, i in enumerate(unique)}\n",
    "    print(reference)\n",
    "    return series, reference"
   ]
  },
  {
   "cell_type": "code",
   "execution_count": 9,
   "metadata": {
    "colab": {},
    "colab_type": "code",
    "id": "G3SgrIBXGe3J"
   },
   "outputs": [
    {
     "name": "stdout",
     "output_type": "stream",
     "text": [
      "{0: 'Male', 1: 'Female'}\n"
     ]
    }
   ],
   "source": [
    "df.Gender, GenderRef = SeriesFactorizer(df.Gender)"
   ]
  },
  {
   "cell_type": "code",
   "execution_count": 10,
   "metadata": {
    "colab": {},
    "colab_type": "code",
    "id": "HD6_Ie-2GggO"
   },
   "outputs": [
    {
     "name": "stdout",
     "output_type": "stream",
     "text": [
      "{0: 'Other', 1: 'Alone'}\n"
     ]
    }
   ],
   "source": [
    "df.MariStat, MariStatRef = SeriesFactorizer(df.MariStat)"
   ]
  },
  {
   "cell_type": "markdown",
   "metadata": {
    "colab_type": "text",
    "id": "ZdTe9JpiGvt9"
   },
   "source": [
    "Для переменных, содержащих более 2 значений, различия между которыми не могут упорядочены, используем фиктивные переменные (one-hot encoding)."
   ]
  },
  {
   "cell_type": "code",
   "execution_count": 11,
   "metadata": {
    "colab": {},
    "colab_type": "code",
    "id": "VrN99Iv8Ht-G"
   },
   "outputs": [
    {
     "data": {
      "text/plain": [
       "['Professional', 'Private+trip to office', 'Private', 'Professional run']"
      ]
     },
     "execution_count": 11,
     "metadata": {},
     "output_type": "execute_result"
    }
   ],
   "source": [
    "list(df.VehUsage.unique())"
   ]
  },
  {
   "cell_type": "code",
   "execution_count": 12,
   "metadata": {
    "colab": {},
    "colab_type": "code",
    "id": "WXfZa7lUH0Jf"
   },
   "outputs": [
    {
     "data": {
      "text/html": [
       "<div>\n",
       "<style scoped>\n",
       "    .dataframe tbody tr th:only-of-type {\n",
       "        vertical-align: middle;\n",
       "    }\n",
       "\n",
       "    .dataframe tbody tr th {\n",
       "        vertical-align: top;\n",
       "    }\n",
       "\n",
       "    .dataframe thead th {\n",
       "        text-align: right;\n",
       "    }\n",
       "</style>\n",
       "<table border=\"1\" class=\"dataframe\">\n",
       "  <thead>\n",
       "    <tr style=\"text-align: right;\">\n",
       "      <th></th>\n",
       "      <th>VehUsg_Private</th>\n",
       "      <th>VehUsg_Private+trip to office</th>\n",
       "      <th>VehUsg_Professional</th>\n",
       "      <th>VehUsg_Professional run</th>\n",
       "    </tr>\n",
       "  </thead>\n",
       "  <tbody>\n",
       "    <tr>\n",
       "      <td>0</td>\n",
       "      <td>0</td>\n",
       "      <td>0</td>\n",
       "      <td>1</td>\n",
       "      <td>0</td>\n",
       "    </tr>\n",
       "    <tr>\n",
       "      <td>1</td>\n",
       "      <td>0</td>\n",
       "      <td>0</td>\n",
       "      <td>1</td>\n",
       "      <td>0</td>\n",
       "    </tr>\n",
       "    <tr>\n",
       "      <td>2</td>\n",
       "      <td>0</td>\n",
       "      <td>1</td>\n",
       "      <td>0</td>\n",
       "      <td>0</td>\n",
       "    </tr>\n",
       "    <tr>\n",
       "      <td>3</td>\n",
       "      <td>0</td>\n",
       "      <td>1</td>\n",
       "      <td>0</td>\n",
       "      <td>0</td>\n",
       "    </tr>\n",
       "    <tr>\n",
       "      <td>4</td>\n",
       "      <td>1</td>\n",
       "      <td>0</td>\n",
       "      <td>0</td>\n",
       "      <td>0</td>\n",
       "    </tr>\n",
       "  </tbody>\n",
       "</table>\n",
       "</div>"
      ],
      "text/plain": [
       "   VehUsg_Private  VehUsg_Private+trip to office  VehUsg_Professional  \\\n",
       "0               0                              0                    1   \n",
       "1               0                              0                    1   \n",
       "2               0                              1                    0   \n",
       "3               0                              1                    0   \n",
       "4               1                              0                    0   \n",
       "\n",
       "   VehUsg_Professional run  \n",
       "0                        0  \n",
       "1                        0  \n",
       "2                        0  \n",
       "3                        0  \n",
       "4                        0  "
      ]
     },
     "execution_count": 12,
     "metadata": {},
     "output_type": "execute_result"
    }
   ],
   "source": [
    "VU_dummies = pd.get_dummies(df.VehUsage, prefix='VehUsg', drop_first=False)\n",
    "VU_dummies.head()"
   ]
  },
  {
   "cell_type": "code",
   "execution_count": 13,
   "metadata": {
    "colab": {},
    "colab_type": "code",
    "id": "gbAPu6XeH9nj"
   },
   "outputs": [],
   "source": [
    "df['SocioCateg'] = df.SocioCateg.str.slice(0,4)"
   ]
  },
  {
   "cell_type": "code",
   "execution_count": 14,
   "metadata": {
    "colab": {},
    "colab_type": "code",
    "id": "MGljfdnMJxXj"
   },
   "outputs": [
    {
     "data": {
      "text/html": [
       "<div>\n",
       "<style scoped>\n",
       "    .dataframe tbody tr th:only-of-type {\n",
       "        vertical-align: middle;\n",
       "    }\n",
       "\n",
       "    .dataframe tbody tr th {\n",
       "        vertical-align: top;\n",
       "    }\n",
       "\n",
       "    .dataframe thead th {\n",
       "        text-align: right;\n",
       "    }\n",
       "</style>\n",
       "<table border=\"1\" class=\"dataframe\">\n",
       "  <thead>\n",
       "    <tr style=\"text-align: right;\">\n",
       "      <th></th>\n",
       "      <th>Frequency</th>\n",
       "    </tr>\n",
       "  </thead>\n",
       "  <tbody>\n",
       "    <tr>\n",
       "      <td>CSP7</td>\n",
       "      <td>14</td>\n",
       "    </tr>\n",
       "    <tr>\n",
       "      <td>CSP3</td>\n",
       "      <td>1210</td>\n",
       "    </tr>\n",
       "    <tr>\n",
       "      <td>CSP1</td>\n",
       "      <td>2740</td>\n",
       "    </tr>\n",
       "    <tr>\n",
       "      <td>CSP2</td>\n",
       "      <td>3254</td>\n",
       "    </tr>\n",
       "    <tr>\n",
       "      <td>CSP4</td>\n",
       "      <td>7648</td>\n",
       "    </tr>\n",
       "    <tr>\n",
       "      <td>CSP6</td>\n",
       "      <td>24833</td>\n",
       "    </tr>\n",
       "    <tr>\n",
       "      <td>CSP5</td>\n",
       "      <td>75456</td>\n",
       "    </tr>\n",
       "  </tbody>\n",
       "</table>\n",
       "</div>"
      ],
      "text/plain": [
       "      Frequency\n",
       "CSP7         14\n",
       "CSP3       1210\n",
       "CSP1       2740\n",
       "CSP2       3254\n",
       "CSP4       7648\n",
       "CSP6      24833\n",
       "CSP5      75456"
      ]
     },
     "execution_count": 14,
     "metadata": {},
     "output_type": "execute_result"
    }
   ],
   "source": [
    "pd.DataFrame(df.SocioCateg.value_counts().sort_values()).rename({'SocioCateg': 'Frequency'}, axis=1)"
   ]
  },
  {
   "cell_type": "code",
   "execution_count": 15,
   "metadata": {
    "colab": {},
    "colab_type": "code",
    "id": "zPfpFjNiKHtj"
   },
   "outputs": [],
   "source": [
    "df = pd.get_dummies(df, columns=['VehUsage','SocioCateg'])"
   ]
  },
  {
   "cell_type": "code",
   "execution_count": 16,
   "metadata": {
    "colab": {},
    "colab_type": "code",
    "id": "HBbmRHUFKRql"
   },
   "outputs": [],
   "source": [
    "df = df.select_dtypes(exclude=['object'])"
   ]
  },
  {
   "cell_type": "code",
   "execution_count": 17,
   "metadata": {
    "colab": {},
    "colab_type": "code",
    "id": "sWLXCS4AGY3_"
   },
   "outputs": [
    {
     "data": {
      "text/html": [
       "<div>\n",
       "<style scoped>\n",
       "    .dataframe tbody tr th:only-of-type {\n",
       "        vertical-align: middle;\n",
       "    }\n",
       "\n",
       "    .dataframe tbody tr th {\n",
       "        vertical-align: top;\n",
       "    }\n",
       "\n",
       "    .dataframe thead th {\n",
       "        text-align: right;\n",
       "    }\n",
       "</style>\n",
       "<table border=\"1\" class=\"dataframe\">\n",
       "  <thead>\n",
       "    <tr style=\"text-align: right;\">\n",
       "      <th></th>\n",
       "      <th>Exposure</th>\n",
       "      <th>LicAge</th>\n",
       "      <th>Gender</th>\n",
       "      <th>MariStat</th>\n",
       "      <th>DrivAge</th>\n",
       "      <th>HasKmLimit</th>\n",
       "      <th>BonusMalus</th>\n",
       "      <th>ClaimAmount</th>\n",
       "      <th>ClaimInd</th>\n",
       "      <th>ClaimNbResp</th>\n",
       "      <th>...</th>\n",
       "      <th>VehUsage_Professional</th>\n",
       "      <th>VehUsage_Professional run</th>\n",
       "      <th>SocioCateg_CSP1</th>\n",
       "      <th>SocioCateg_CSP2</th>\n",
       "      <th>SocioCateg_CSP3</th>\n",
       "      <th>SocioCateg_CSP4</th>\n",
       "      <th>SocioCateg_CSP5</th>\n",
       "      <th>SocioCateg_CSP6</th>\n",
       "      <th>SocioCateg_CSP7</th>\n",
       "      <th>DrivAgeSq</th>\n",
       "    </tr>\n",
       "  </thead>\n",
       "  <tbody>\n",
       "    <tr>\n",
       "      <td>0</td>\n",
       "      <td>0.083</td>\n",
       "      <td>332</td>\n",
       "      <td>0</td>\n",
       "      <td>0</td>\n",
       "      <td>46</td>\n",
       "      <td>0</td>\n",
       "      <td>50</td>\n",
       "      <td>0.0</td>\n",
       "      <td>0</td>\n",
       "      <td>0.0</td>\n",
       "      <td>...</td>\n",
       "      <td>1</td>\n",
       "      <td>0</td>\n",
       "      <td>0</td>\n",
       "      <td>0</td>\n",
       "      <td>0</td>\n",
       "      <td>0</td>\n",
       "      <td>1</td>\n",
       "      <td>0</td>\n",
       "      <td>0</td>\n",
       "      <td>2116</td>\n",
       "    </tr>\n",
       "    <tr>\n",
       "      <td>1</td>\n",
       "      <td>0.916</td>\n",
       "      <td>333</td>\n",
       "      <td>0</td>\n",
       "      <td>0</td>\n",
       "      <td>46</td>\n",
       "      <td>0</td>\n",
       "      <td>50</td>\n",
       "      <td>0.0</td>\n",
       "      <td>0</td>\n",
       "      <td>0.0</td>\n",
       "      <td>...</td>\n",
       "      <td>1</td>\n",
       "      <td>0</td>\n",
       "      <td>0</td>\n",
       "      <td>0</td>\n",
       "      <td>0</td>\n",
       "      <td>0</td>\n",
       "      <td>1</td>\n",
       "      <td>0</td>\n",
       "      <td>0</td>\n",
       "      <td>2116</td>\n",
       "    </tr>\n",
       "    <tr>\n",
       "      <td>2</td>\n",
       "      <td>0.550</td>\n",
       "      <td>173</td>\n",
       "      <td>0</td>\n",
       "      <td>0</td>\n",
       "      <td>32</td>\n",
       "      <td>0</td>\n",
       "      <td>68</td>\n",
       "      <td>0.0</td>\n",
       "      <td>0</td>\n",
       "      <td>0.0</td>\n",
       "      <td>...</td>\n",
       "      <td>0</td>\n",
       "      <td>0</td>\n",
       "      <td>0</td>\n",
       "      <td>0</td>\n",
       "      <td>0</td>\n",
       "      <td>0</td>\n",
       "      <td>1</td>\n",
       "      <td>0</td>\n",
       "      <td>0</td>\n",
       "      <td>1024</td>\n",
       "    </tr>\n",
       "    <tr>\n",
       "      <td>3</td>\n",
       "      <td>0.089</td>\n",
       "      <td>364</td>\n",
       "      <td>1</td>\n",
       "      <td>0</td>\n",
       "      <td>52</td>\n",
       "      <td>0</td>\n",
       "      <td>50</td>\n",
       "      <td>0.0</td>\n",
       "      <td>0</td>\n",
       "      <td>0.0</td>\n",
       "      <td>...</td>\n",
       "      <td>0</td>\n",
       "      <td>0</td>\n",
       "      <td>0</td>\n",
       "      <td>0</td>\n",
       "      <td>0</td>\n",
       "      <td>0</td>\n",
       "      <td>1</td>\n",
       "      <td>0</td>\n",
       "      <td>0</td>\n",
       "      <td>2704</td>\n",
       "    </tr>\n",
       "    <tr>\n",
       "      <td>4</td>\n",
       "      <td>0.233</td>\n",
       "      <td>426</td>\n",
       "      <td>0</td>\n",
       "      <td>0</td>\n",
       "      <td>57</td>\n",
       "      <td>0</td>\n",
       "      <td>50</td>\n",
       "      <td>0.0</td>\n",
       "      <td>0</td>\n",
       "      <td>0.0</td>\n",
       "      <td>...</td>\n",
       "      <td>0</td>\n",
       "      <td>0</td>\n",
       "      <td>0</td>\n",
       "      <td>0</td>\n",
       "      <td>0</td>\n",
       "      <td>0</td>\n",
       "      <td>0</td>\n",
       "      <td>1</td>\n",
       "      <td>0</td>\n",
       "      <td>3249</td>\n",
       "    </tr>\n",
       "  </tbody>\n",
       "</table>\n",
       "<p>5 rows × 28 columns</p>\n",
       "</div>"
      ],
      "text/plain": [
       "   Exposure  LicAge  Gender  MariStat  DrivAge  HasKmLimit  BonusMalus  \\\n",
       "0     0.083     332       0         0       46           0          50   \n",
       "1     0.916     333       0         0       46           0          50   \n",
       "2     0.550     173       0         0       32           0          68   \n",
       "3     0.089     364       1         0       52           0          50   \n",
       "4     0.233     426       0         0       57           0          50   \n",
       "\n",
       "   ClaimAmount  ClaimInd  ClaimNbResp  ...  VehUsage_Professional  \\\n",
       "0          0.0         0          0.0  ...                      1   \n",
       "1          0.0         0          0.0  ...                      1   \n",
       "2          0.0         0          0.0  ...                      0   \n",
       "3          0.0         0          0.0  ...                      0   \n",
       "4          0.0         0          0.0  ...                      0   \n",
       "\n",
       "   VehUsage_Professional run  SocioCateg_CSP1  SocioCateg_CSP2  \\\n",
       "0                          0                0                0   \n",
       "1                          0                0                0   \n",
       "2                          0                0                0   \n",
       "3                          0                0                0   \n",
       "4                          0                0                0   \n",
       "\n",
       "   SocioCateg_CSP3  SocioCateg_CSP4  SocioCateg_CSP5  SocioCateg_CSP6  \\\n",
       "0                0                0                1                0   \n",
       "1                0                0                1                0   \n",
       "2                0                0                1                0   \n",
       "3                0                0                1                0   \n",
       "4                0                0                0                1   \n",
       "\n",
       "   SocioCateg_CSP7  DrivAgeSq  \n",
       "0                0       2116  \n",
       "1                0       2116  \n",
       "2                0       1024  \n",
       "3                0       2704  \n",
       "4                0       3249  \n",
       "\n",
       "[5 rows x 28 columns]"
      ]
     },
     "execution_count": 17,
     "metadata": {},
     "output_type": "execute_result"
    }
   ],
   "source": [
    "df['DrivAgeSq'] = df.DrivAge.apply(lambda x: x**2)\n",
    "df.head()"
   ]
  },
  {
   "cell_type": "markdown",
   "metadata": {
    "colab_type": "text",
    "id": "XE_3dSsW3J3X"
   },
   "source": [
    "Для моделирования частоты убытков сгенерируем показатель как сумму индикатора того, что убыток произошел (\"ClaimInd\") и количества заявленных убытков по различным видам ущерба за 4 предшествующих года (\"ClaimNbResp\", \"ClaimNbNonResp\", \"ClaimNbParking\", \"ClaimNbFireTheft\", \"ClaimNbWindscreen\").\n",
    "\n",
    "В случаях, если соответствующая величина убытка равняется нулю, сгенерированную частоту также обнулим."
   ]
  },
  {
   "cell_type": "code",
   "execution_count": 18,
   "metadata": {
    "colab": {},
    "colab_type": "code",
    "id": "R6rz5Oko3rbr"
   },
   "outputs": [],
   "source": [
    "df['ClaimsCount'] = df.ClaimInd + df.ClaimNbResp + df.ClaimNbNonResp + df.ClaimNbParking + df.ClaimNbFireTheft + df.ClaimNbWindscreen\n",
    "df.loc[df.ClaimAmount == 0, 'ClaimsCount'] = 0\n",
    "df.drop([\"ClaimNbResp\", \"ClaimNbNonResp\", \"ClaimNbParking\", \"ClaimNbFireTheft\", \"ClaimNbWindscreen\"], axis=1, inplace=True)"
   ]
  },
  {
   "cell_type": "code",
   "execution_count": 19,
   "metadata": {
    "colab": {},
    "colab_type": "code",
    "id": "cJ5_aqnx4FcZ"
   },
   "outputs": [
    {
     "data": {
      "text/html": [
       "<div>\n",
       "<style scoped>\n",
       "    .dataframe tbody tr th:only-of-type {\n",
       "        vertical-align: middle;\n",
       "    }\n",
       "\n",
       "    .dataframe tbody tr th {\n",
       "        vertical-align: top;\n",
       "    }\n",
       "\n",
       "    .dataframe thead th {\n",
       "        text-align: right;\n",
       "    }\n",
       "</style>\n",
       "<table border=\"1\" class=\"dataframe\">\n",
       "  <thead>\n",
       "    <tr style=\"text-align: right;\">\n",
       "      <th></th>\n",
       "      <th>Policies</th>\n",
       "    </tr>\n",
       "  </thead>\n",
       "  <tbody>\n",
       "    <tr>\n",
       "      <td>0.0</td>\n",
       "      <td>104286</td>\n",
       "    </tr>\n",
       "    <tr>\n",
       "      <td>2.0</td>\n",
       "      <td>3529</td>\n",
       "    </tr>\n",
       "    <tr>\n",
       "      <td>1.0</td>\n",
       "      <td>3339</td>\n",
       "    </tr>\n",
       "    <tr>\n",
       "      <td>3.0</td>\n",
       "      <td>2310</td>\n",
       "    </tr>\n",
       "    <tr>\n",
       "      <td>4.0</td>\n",
       "      <td>1101</td>\n",
       "    </tr>\n",
       "    <tr>\n",
       "      <td>5.0</td>\n",
       "      <td>428</td>\n",
       "    </tr>\n",
       "    <tr>\n",
       "      <td>6.0</td>\n",
       "      <td>127</td>\n",
       "    </tr>\n",
       "    <tr>\n",
       "      <td>7.0</td>\n",
       "      <td>26</td>\n",
       "    </tr>\n",
       "    <tr>\n",
       "      <td>8.0</td>\n",
       "      <td>6</td>\n",
       "    </tr>\n",
       "    <tr>\n",
       "      <td>9.0</td>\n",
       "      <td>2</td>\n",
       "    </tr>\n",
       "    <tr>\n",
       "      <td>11.0</td>\n",
       "      <td>1</td>\n",
       "    </tr>\n",
       "  </tbody>\n",
       "</table>\n",
       "</div>"
      ],
      "text/plain": [
       "      Policies\n",
       "0.0     104286\n",
       "2.0       3529\n",
       "1.0       3339\n",
       "3.0       2310\n",
       "4.0       1101\n",
       "5.0        428\n",
       "6.0        127\n",
       "7.0         26\n",
       "8.0          6\n",
       "9.0          2\n",
       "11.0         1"
      ]
     },
     "execution_count": 19,
     "metadata": {},
     "output_type": "execute_result"
    }
   ],
   "source": [
    "pd.DataFrame(df.ClaimsCount.value_counts()).rename({'ClaimsCount': 'Policies'}, axis=1)"
   ]
  },
  {
   "cell_type": "code",
   "execution_count": null,
   "metadata": {
    "colab": {},
    "colab_type": "code",
    "id": "A0zvYuoZ4gcH"
   },
   "outputs": [],
   "source": [
    "# import plotly.express as px\n",
    "# fig = px.bar(df, x='ClaimsCount', y='ClaimAmount', title='Зависимость между частотой и величиной убытков')\n",
    "# fig.show()"
   ]
  },
  {
   "cell_type": "markdown",
   "metadata": {
    "colab_type": "text",
    "id": "iCZAeoll6xac"
   },
   "source": [
    "Добавляется  признак среднего убытка, как отношение величины убытков к их частоте."
   ]
  },
  {
   "cell_type": "code",
   "execution_count": 20,
   "metadata": {
    "colab": {},
    "colab_type": "code",
    "id": "y9AKwYtU6x1i"
   },
   "outputs": [],
   "source": [
    "dfAC = df[df.ClaimsCount > 0].copy()\n",
    "dfAC['AvgClaim'] = dfAC.ClaimAmount/dfAC.ClaimsCount"
   ]
  },
  {
   "cell_type": "markdown",
   "metadata": {
    "colab_type": "text",
    "id": "2m1bibe9nMKp"
   },
   "source": [
    "XGBoost для многоклассовой классификации принимает на вход значения меток классов в виде `[0, num_classes]`. Заменим значение 11 на 10."
   ]
  },
  {
   "cell_type": "code",
   "execution_count": 21,
   "metadata": {
    "colab": {},
    "colab_type": "code",
    "id": "RpY4O8DObm3C"
   },
   "outputs": [
    {
     "data": {
      "text/plain": [
       "array([ 0.,  4.,  2.,  1.,  3.,  5.,  6.,  7.,  8.,  9., 10.])"
      ]
     },
     "execution_count": 21,
     "metadata": {},
     "output_type": "execute_result"
    }
   ],
   "source": [
    "df['ClaimsCount']=df['ClaimsCount'].replace(to_replace = 11., value =10.) \n",
    "\n",
    "df['ClaimsCount'].unique()"
   ]
  },
  {
   "cell_type": "markdown",
   "metadata": {
    "colab_type": "text",
    "id": "BzM1998TZDPm"
   },
   "source": [
    "Заметим, что в данном случае присутствует проблема несбалансированности классов. Поэтому, для того, чтобы по возможности избежать ее, воспользуемся взвешиванием наблюдений для обучения модели. Для этого в исходном наборе данных создадим столбец `weight`. Присвоим ему некоторые значения, например, можно задать `0.05` для значений `ClaimsCount` 0, а для остальных - 1 (Для этого можем использовать функцию `np.where`). Также можно попробовать какой-либо другой способ задания весов, приведенный пример не гарантирует хороших результатов."
   ]
  },
  {
   "cell_type": "code",
   "execution_count": 22,
   "metadata": {
    "colab": {},
    "colab_type": "code",
    "id": "dnL5LOi0i2oq"
   },
   "outputs": [
    {
     "data": {
      "text/html": [
       "<div>\n",
       "<style scoped>\n",
       "    .dataframe tbody tr th:only-of-type {\n",
       "        vertical-align: middle;\n",
       "    }\n",
       "\n",
       "    .dataframe tbody tr th {\n",
       "        vertical-align: top;\n",
       "    }\n",
       "\n",
       "    .dataframe thead th {\n",
       "        text-align: right;\n",
       "    }\n",
       "</style>\n",
       "<table border=\"1\" class=\"dataframe\">\n",
       "  <thead>\n",
       "    <tr style=\"text-align: right;\">\n",
       "      <th></th>\n",
       "      <th>Exposure</th>\n",
       "      <th>LicAge</th>\n",
       "      <th>Gender</th>\n",
       "      <th>MariStat</th>\n",
       "      <th>DrivAge</th>\n",
       "      <th>HasKmLimit</th>\n",
       "      <th>BonusMalus</th>\n",
       "      <th>ClaimAmount</th>\n",
       "      <th>ClaimInd</th>\n",
       "      <th>OutUseNb</th>\n",
       "      <th>...</th>\n",
       "      <th>SocioCateg_CSP1</th>\n",
       "      <th>SocioCateg_CSP2</th>\n",
       "      <th>SocioCateg_CSP3</th>\n",
       "      <th>SocioCateg_CSP4</th>\n",
       "      <th>SocioCateg_CSP5</th>\n",
       "      <th>SocioCateg_CSP6</th>\n",
       "      <th>SocioCateg_CSP7</th>\n",
       "      <th>DrivAgeSq</th>\n",
       "      <th>ClaimsCount</th>\n",
       "      <th>weight</th>\n",
       "    </tr>\n",
       "  </thead>\n",
       "  <tbody>\n",
       "    <tr>\n",
       "      <td>115145</td>\n",
       "      <td>0.500</td>\n",
       "      <td>130</td>\n",
       "      <td>1</td>\n",
       "      <td>0</td>\n",
       "      <td>34</td>\n",
       "      <td>0</td>\n",
       "      <td>50</td>\n",
       "      <td>0.000000</td>\n",
       "      <td>0</td>\n",
       "      <td>0.0</td>\n",
       "      <td>...</td>\n",
       "      <td>0</td>\n",
       "      <td>0</td>\n",
       "      <td>0</td>\n",
       "      <td>0</td>\n",
       "      <td>1</td>\n",
       "      <td>0</td>\n",
       "      <td>0</td>\n",
       "      <td>1156</td>\n",
       "      <td>0.0</td>\n",
       "      <td>0.050000</td>\n",
       "    </tr>\n",
       "    <tr>\n",
       "      <td>115146</td>\n",
       "      <td>0.092</td>\n",
       "      <td>136</td>\n",
       "      <td>1</td>\n",
       "      <td>0</td>\n",
       "      <td>35</td>\n",
       "      <td>0</td>\n",
       "      <td>50</td>\n",
       "      <td>0.000000</td>\n",
       "      <td>0</td>\n",
       "      <td>0.0</td>\n",
       "      <td>...</td>\n",
       "      <td>0</td>\n",
       "      <td>0</td>\n",
       "      <td>0</td>\n",
       "      <td>0</td>\n",
       "      <td>1</td>\n",
       "      <td>0</td>\n",
       "      <td>0</td>\n",
       "      <td>1225</td>\n",
       "      <td>0.0</td>\n",
       "      <td>0.050000</td>\n",
       "    </tr>\n",
       "    <tr>\n",
       "      <td>115147</td>\n",
       "      <td>0.157</td>\n",
       "      <td>352</td>\n",
       "      <td>0</td>\n",
       "      <td>0</td>\n",
       "      <td>53</td>\n",
       "      <td>0</td>\n",
       "      <td>50</td>\n",
       "      <td>0.000000</td>\n",
       "      <td>0</td>\n",
       "      <td>0.0</td>\n",
       "      <td>...</td>\n",
       "      <td>0</td>\n",
       "      <td>0</td>\n",
       "      <td>0</td>\n",
       "      <td>0</td>\n",
       "      <td>1</td>\n",
       "      <td>0</td>\n",
       "      <td>0</td>\n",
       "      <td>2809</td>\n",
       "      <td>0.0</td>\n",
       "      <td>0.050000</td>\n",
       "    </tr>\n",
       "    <tr>\n",
       "      <td>115148</td>\n",
       "      <td>0.422</td>\n",
       "      <td>353</td>\n",
       "      <td>0</td>\n",
       "      <td>0</td>\n",
       "      <td>53</td>\n",
       "      <td>0</td>\n",
       "      <td>50</td>\n",
       "      <td>1117.886103</td>\n",
       "      <td>1</td>\n",
       "      <td>0.0</td>\n",
       "      <td>...</td>\n",
       "      <td>0</td>\n",
       "      <td>0</td>\n",
       "      <td>0</td>\n",
       "      <td>0</td>\n",
       "      <td>1</td>\n",
       "      <td>0</td>\n",
       "      <td>0</td>\n",
       "      <td>2809</td>\n",
       "      <td>1.0</td>\n",
       "      <td>0.530578</td>\n",
       "    </tr>\n",
       "    <tr>\n",
       "      <td>115149</td>\n",
       "      <td>0.420</td>\n",
       "      <td>358</td>\n",
       "      <td>0</td>\n",
       "      <td>0</td>\n",
       "      <td>53</td>\n",
       "      <td>0</td>\n",
       "      <td>50</td>\n",
       "      <td>0.000000</td>\n",
       "      <td>0</td>\n",
       "      <td>0.0</td>\n",
       "      <td>...</td>\n",
       "      <td>0</td>\n",
       "      <td>0</td>\n",
       "      <td>0</td>\n",
       "      <td>0</td>\n",
       "      <td>1</td>\n",
       "      <td>0</td>\n",
       "      <td>0</td>\n",
       "      <td>2809</td>\n",
       "      <td>0.0</td>\n",
       "      <td>0.050000</td>\n",
       "    </tr>\n",
       "    <tr>\n",
       "      <td>115150</td>\n",
       "      <td>0.423</td>\n",
       "      <td>238</td>\n",
       "      <td>0</td>\n",
       "      <td>0</td>\n",
       "      <td>39</td>\n",
       "      <td>0</td>\n",
       "      <td>50</td>\n",
       "      <td>0.000000</td>\n",
       "      <td>0</td>\n",
       "      <td>4.0</td>\n",
       "      <td>...</td>\n",
       "      <td>0</td>\n",
       "      <td>0</td>\n",
       "      <td>0</td>\n",
       "      <td>0</td>\n",
       "      <td>1</td>\n",
       "      <td>0</td>\n",
       "      <td>0</td>\n",
       "      <td>1521</td>\n",
       "      <td>0.0</td>\n",
       "      <td>0.050000</td>\n",
       "    </tr>\n",
       "    <tr>\n",
       "      <td>115151</td>\n",
       "      <td>1.000</td>\n",
       "      <td>408</td>\n",
       "      <td>1</td>\n",
       "      <td>0</td>\n",
       "      <td>54</td>\n",
       "      <td>0</td>\n",
       "      <td>50</td>\n",
       "      <td>2764.169184</td>\n",
       "      <td>1</td>\n",
       "      <td>0.0</td>\n",
       "      <td>...</td>\n",
       "      <td>0</td>\n",
       "      <td>0</td>\n",
       "      <td>0</td>\n",
       "      <td>0</td>\n",
       "      <td>1</td>\n",
       "      <td>0</td>\n",
       "      <td>0</td>\n",
       "      <td>2916</td>\n",
       "      <td>2.0</td>\n",
       "      <td>1.218948</td>\n",
       "    </tr>\n",
       "    <tr>\n",
       "      <td>115152</td>\n",
       "      <td>0.805</td>\n",
       "      <td>211</td>\n",
       "      <td>0</td>\n",
       "      <td>0</td>\n",
       "      <td>35</td>\n",
       "      <td>0</td>\n",
       "      <td>54</td>\n",
       "      <td>0.000000</td>\n",
       "      <td>0</td>\n",
       "      <td>0.0</td>\n",
       "      <td>...</td>\n",
       "      <td>0</td>\n",
       "      <td>0</td>\n",
       "      <td>0</td>\n",
       "      <td>0</td>\n",
       "      <td>1</td>\n",
       "      <td>0</td>\n",
       "      <td>0</td>\n",
       "      <td>1225</td>\n",
       "      <td>0.0</td>\n",
       "      <td>0.050000</td>\n",
       "    </tr>\n",
       "    <tr>\n",
       "      <td>115153</td>\n",
       "      <td>0.538</td>\n",
       "      <td>356</td>\n",
       "      <td>0</td>\n",
       "      <td>0</td>\n",
       "      <td>52</td>\n",
       "      <td>0</td>\n",
       "      <td>50</td>\n",
       "      <td>0.000000</td>\n",
       "      <td>0</td>\n",
       "      <td>0.0</td>\n",
       "      <td>...</td>\n",
       "      <td>0</td>\n",
       "      <td>0</td>\n",
       "      <td>0</td>\n",
       "      <td>0</td>\n",
       "      <td>1</td>\n",
       "      <td>0</td>\n",
       "      <td>0</td>\n",
       "      <td>2704</td>\n",
       "      <td>0.0</td>\n",
       "      <td>0.050000</td>\n",
       "    </tr>\n",
       "    <tr>\n",
       "      <td>115154</td>\n",
       "      <td>0.461</td>\n",
       "      <td>362</td>\n",
       "      <td>0</td>\n",
       "      <td>0</td>\n",
       "      <td>52</td>\n",
       "      <td>0</td>\n",
       "      <td>50</td>\n",
       "      <td>0.000000</td>\n",
       "      <td>0</td>\n",
       "      <td>0.0</td>\n",
       "      <td>...</td>\n",
       "      <td>0</td>\n",
       "      <td>0</td>\n",
       "      <td>0</td>\n",
       "      <td>0</td>\n",
       "      <td>1</td>\n",
       "      <td>0</td>\n",
       "      <td>0</td>\n",
       "      <td>2704</td>\n",
       "      <td>0.0</td>\n",
       "      <td>0.050000</td>\n",
       "    </tr>\n",
       "  </tbody>\n",
       "</table>\n",
       "<p>10 rows × 25 columns</p>\n",
       "</div>"
      ],
      "text/plain": [
       "        Exposure  LicAge  Gender  MariStat  DrivAge  HasKmLimit  BonusMalus  \\\n",
       "115145     0.500     130       1         0       34           0          50   \n",
       "115146     0.092     136       1         0       35           0          50   \n",
       "115147     0.157     352       0         0       53           0          50   \n",
       "115148     0.422     353       0         0       53           0          50   \n",
       "115149     0.420     358       0         0       53           0          50   \n",
       "115150     0.423     238       0         0       39           0          50   \n",
       "115151     1.000     408       1         0       54           0          50   \n",
       "115152     0.805     211       0         0       35           0          54   \n",
       "115153     0.538     356       0         0       52           0          50   \n",
       "115154     0.461     362       0         0       52           0          50   \n",
       "\n",
       "        ClaimAmount  ClaimInd  OutUseNb  ...  SocioCateg_CSP1  \\\n",
       "115145     0.000000         0       0.0  ...                0   \n",
       "115146     0.000000         0       0.0  ...                0   \n",
       "115147     0.000000         0       0.0  ...                0   \n",
       "115148  1117.886103         1       0.0  ...                0   \n",
       "115149     0.000000         0       0.0  ...                0   \n",
       "115150     0.000000         0       4.0  ...                0   \n",
       "115151  2764.169184         1       0.0  ...                0   \n",
       "115152     0.000000         0       0.0  ...                0   \n",
       "115153     0.000000         0       0.0  ...                0   \n",
       "115154     0.000000         0       0.0  ...                0   \n",
       "\n",
       "        SocioCateg_CSP2  SocioCateg_CSP3  SocioCateg_CSP4  SocioCateg_CSP5  \\\n",
       "115145                0                0                0                1   \n",
       "115146                0                0                0                1   \n",
       "115147                0                0                0                1   \n",
       "115148                0                0                0                1   \n",
       "115149                0                0                0                1   \n",
       "115150                0                0                0                1   \n",
       "115151                0                0                0                1   \n",
       "115152                0                0                0                1   \n",
       "115153                0                0                0                1   \n",
       "115154                0                0                0                1   \n",
       "\n",
       "        SocioCateg_CSP6  SocioCateg_CSP7  DrivAgeSq  ClaimsCount    weight  \n",
       "115145                0                0       1156          0.0  0.050000  \n",
       "115146                0                0       1225          0.0  0.050000  \n",
       "115147                0                0       2809          0.0  0.050000  \n",
       "115148                0                0       2809          1.0  0.530578  \n",
       "115149                0                0       2809          0.0  0.050000  \n",
       "115150                0                0       1521          0.0  0.050000  \n",
       "115151                0                0       2916          2.0  1.218948  \n",
       "115152                0                0       1225          0.0  0.050000  \n",
       "115153                0                0       2704          0.0  0.050000  \n",
       "115154                0                0       2704          0.0  0.050000  \n",
       "\n",
       "[10 rows x 25 columns]"
      ]
     },
     "execution_count": 22,
     "metadata": {},
     "output_type": "execute_result"
    }
   ],
   "source": [
    "\n",
    "df['weight']= ((df['ClaimsCount'] / df['ClaimsCount'].sum())**1.2)*100000\n",
    "df.loc[df.ClaimsCount.isin([0]), 'weight'] = 0.05\n",
    "df.tail(10)\n",
    "\n",
    "# df_group_count['weight'] = df_group_count['ClaimsCount'].where(df_group_count['ClaimsCount'] < 1., 1.)\n",
    "# df_group_count.head()\n",
    "# weights = class_weight.compute_class_weight('balanced',\n",
    "#                                             df_f.ClaimsCount.unique(),\n",
    "#                                              df_f.ClaimsCount)\n",
    "# def make_weight (row):\n",
    "#    return weights[int(row['ClaimsCount'])]\n",
    "# df_f['weight'] = df_f.apply (lambda row: make_weight(row), axis=1)\n",
    "\n"
   ]
  },
  {
   "cell_type": "markdown",
   "metadata": {
    "colab_type": "text",
    "id": "VpYxkXdrLD01"
   },
   "source": [
    "## Разделение набора данных на обучающую, валидационную и тестовую выборки"
   ]
  },
  {
   "cell_type": "code",
   "execution_count": 23,
   "metadata": {
    "colab": {},
    "colab_type": "code",
    "id": "piO1n8o2LFAJ"
   },
   "outputs": [],
   "source": [
    "from sklearn.model_selection import train_test_split"
   ]
  },
  {
   "cell_type": "code",
   "execution_count": 24,
   "metadata": {
    "colab": {},
    "colab_type": "code",
    "id": "OxtoRDpYhGP6"
   },
   "outputs": [],
   "source": [
    "X = df.drop(columns=['Exposure', 'ClaimsCount'])\n",
    "y = df['ClaimsCount']\n"
   ]
  },
  {
   "cell_type": "markdown",
   "metadata": {
    "colab_type": "text",
    "id": "sAlGTL0hBpNv"
   },
   "source": [
    "Разобьем имеющийся набор данных на обучающую, валидационную и тестовую выборки в отношениях 70%/15%/15% соответственно. Зададим зерно для случайного разбиения равным 10."
   ]
  },
  {
   "cell_type": "code",
   "execution_count": 25,
   "metadata": {
    "colab": {},
    "colab_type": "code",
    "id": "dGvhYDXdLFoR"
   },
   "outputs": [],
   "source": [
    "# Разбиение датасета для частоты на train/val/test\n",
    "\n",
    "x_train, x_test, y_train, y_test = train_test_split(X, y, test_size=0.3, random_state=10)\n",
    "x_valid, x_test, y_valid, y_test = train_test_split(x_test, y_test, test_size=0.5, random_state=10)"
   ]
  },
  {
   "cell_type": "markdown",
   "metadata": {
    "colab_type": "text",
    "id": "PCySK2zQKsUI"
   },
   "source": [
    "Далее, создадим объекты `DMatrix` для обучающей, валидационной и тестовой выборок. Для обучающей выборки также укажем параметр `weight` равным полученному ранее столбцу весов. Данный столбец также нужно исключить из объекта передаваемого в параметр `data`."
   ]
  },
  {
   "cell_type": "code",
   "execution_count": 26,
   "metadata": {
    "colab": {},
    "colab_type": "code",
    "id": "s_fWnw-PhHQG"
   },
   "outputs": [],
   "source": [
    "xgb_train = xgb.DMatrix(x_train.drop(columns=['weight']).values,\n",
    "                        y_train.values,\n",
    "                        weight=x_train['weight'].values)\n",
    "\n",
    "xgb_valid = xgb.DMatrix(x_valid.drop(columns=['weight']).values,\n",
    "                        y_valid.values)\n",
    "\n",
    "xgb_test = xgb.DMatrix(x_test.drop(columns=['weight']).values,\n",
    "                       y_test.values)"
   ]
  },
  {
   "cell_type": "code",
   "execution_count": 27,
   "metadata": {
    "colab": {},
    "colab_type": "code",
    "id": "O36I6wb0hHgF"
   },
   "outputs": [],
   "source": [
    "def objective(params):\n",
    "    parameters = {\n",
    "        'objective': 'multi:softmax',\n",
    "        'max_depth':  int(params['max_depth']),\n",
    "        'min_child_weight': params['min_child_weight'],\n",
    "        'subsample': params['subsample'],\n",
    "        'colsample_bytree': params['colsample_bytree'],\n",
    "        'eta': params['eta'],\n",
    "        'alpha': params['alpha'],\n",
    "        'lambda': params['lambda'],\n",
    "        'num_class': y.nunique()\n",
    "    }\n",
    "    \n",
    "    cv_result = xgb.cv(parameters, xgb_train, num_boost_round=int(params['num_boost_round']),\n",
    "                       nfold=5, metrics=['merror'], seed=21, maximize=False, early_stopping_rounds=10)\n",
    "    score = cv_result['test-merror-mean'][-1:].values[0]\n",
    "    return score"
   ]
  },
  {
   "cell_type": "code",
   "execution_count": 28,
   "metadata": {
    "colab": {},
    "colab_type": "code",
    "id": "uZkfN-3whHb4"
   },
   "outputs": [],
   "source": [
    "space = {'num_boost_round': hp.quniform('num_boost_round', 50, 500, 1),\n",
    "         'max_depth': hp.choice('max_depth', [5, 8, 10, 12, 15]),\n",
    "         'min_child_weight': hp.uniform('min_child_weight', 0, 50),\n",
    "         'subsample': hp.uniform('subsample', 0.5, 1),\n",
    "         'colsample_bytree': hp.uniform('colsample_bytree', 0.5, 1),\n",
    "         'alpha': hp.uniform('alpha', 0.8, 1),\n",
    "         'lambda': hp.uniform('lambda', 0, 1),\n",
    "         'eta': hp.uniform('eta', 0.01, 1),\n",
    "         'num_class': 20\n",
    "        }\n"
   ]
  },
  {
   "cell_type": "code",
   "execution_count": 29,
   "metadata": {
    "colab": {},
    "colab_type": "code",
    "id": "dWaotG1tjhOc"
   },
   "outputs": [
    {
     "name": "stdout",
     "output_type": "stream",
     "text": [
      "100%|██████████| 10/10 [08:20<00:00, 47.79s/trial, best loss: 0.5297696000000001]\n"
     ]
    }
   ],
   "source": [
    "best = fmin(fn=objective, space=space, algo=tpe.suggest, max_evals=10)"
   ]
  },
  {
   "cell_type": "code",
   "execution_count": 30,
   "metadata": {
    "colab": {},
    "colab_type": "code",
    "id": "auqJLO-xmvWP"
   },
   "outputs": [
    {
     "data": {
      "text/plain": [
       "{'alpha': 0.8905570299156957,\n",
       " 'colsample_bytree': 0.7794023857463278,\n",
       " 'eta': 0.014721920693257947,\n",
       " 'lambda': 0.6668032035177822,\n",
       " 'max_depth': 8,\n",
       " 'min_child_weight': 24.406862661132028,\n",
       " 'num_boost_round': 58.0,\n",
       " 'num_class': 20,\n",
       " 'subsample': 0.5792376674059414,\n",
       " 'objective': 'multi:softmax'}"
      ]
     },
     "execution_count": 30,
     "metadata": {},
     "output_type": "execute_result"
    }
   ],
   "source": [
    "best_params = space_eval(space, best)\n",
    "best_params['objective'] = 'multi:softmax'\n",
    "best_params"
   ]
  },
  {
   "cell_type": "markdown",
   "metadata": {
    "colab_type": "text",
    "id": "DIIvDdIzpkn_"
   },
   "source": [
    "# Применение модели"
   ]
  },
  {
   "cell_type": "code",
   "execution_count": 31,
   "metadata": {
    "colab": {},
    "colab_type": "code",
    "id": "3ixZC9cr5HaI"
   },
   "outputs": [],
   "source": [
    "progress = dict()\n",
    "xgb_model = xgb.train(params=best_params, dtrain=xgb_train,\n",
    "                        maximize=False, evals=[(xgb_train, \"train\"),(xgb_valid, \"valid\")],\n",
    "                        early_stopping_rounds=10, evals_result=progress, verbose_eval=False)"
   ]
  },
  {
   "cell_type": "markdown",
   "metadata": {
    "colab_type": "text",
    "id": "q0Y3zIxLpGqP"
   },
   "source": [
    "# Оценка результатов\n"
   ]
  },
  {
   "cell_type": "code",
   "execution_count": 32,
   "metadata": {
    "colab": {},
    "colab_type": "code",
    "id": "HZMx-q9BmvpI"
   },
   "outputs": [
    {
     "name": "stdout",
     "output_type": "stream",
     "text": [
      "F1 Score on train: 0.9357383882493053\n",
      "Accuracy on train: 0.9357383882493053\n",
      "\n",
      "F1 Score on valid: 0.931916864470561\n",
      "Accuracy on valid: 0.931916864470561\n",
      "\n",
      "F1 Score on test: 0.9319786963065879\n",
      "Accuracy on test: 0.9319786963065879\n",
      "\n"
     ]
    }
   ],
   "source": [
    "\n",
    "\n",
    "dfsets = [{'set': 'train', 'dmat': xgb_train, 'target': y_train},\n",
    "          {'set': 'valid', 'dmat': xgb_valid, 'target': y_valid},\n",
    "          {'set': 'test', 'dmat': xgb_test, 'target': y_test}]\n",
    "for dfset in dfsets:\n",
    "    class_preds = xgb_model.predict(dfset['dmat'])\n",
    "    print('F1 Score on ' + str(dfset['set'])+':', f1_score(dfset['target'], class_preds, average='micro')) \n",
    "    print('Accuracy on ' + str(dfset['set'])+':', accuracy_score(dfset['target'], class_preds)) \n",
    "    print('')\n",
    "\n"
   ]
  },
  {
   "cell_type": "code",
   "execution_count": 33,
   "metadata": {
    "colab": {},
    "colab_type": "code",
    "id": "TjmeAfq3mvwv"
   },
   "outputs": [
    {
     "data": {
      "image/png": "[encoded data removed]",
      "text/plain": [
       "<Figure size 1080x216 with 6 Axes>"
      ]
     },
     "metadata": {
      "needs_background": "light"
     },
     "output_type": "display_data"
    }
   ],
   "source": [
    "plt.subplots(1,3, figsize=(15,3))\n",
    "for i in range(len(dfsets)):\n",
    "    confmatrix = confusion_matrix(dfsets[i]['target'], xgb_model.predict(dfsets[i]['dmat']))\n",
    "    plt.subplot(1,3,i+1)\n",
    "    plt.imshow(confmatrix, cmap='Greys')\n",
    "    plt.colorbar()\n",
    "    plt.ylabel('True')\n",
    "    plt.xlabel('Predicted')\n",
    "plt.show()\n"
   ]
  },
  {
   "cell_type": "markdown",
   "metadata": {
    "colab_type": "text",
    "id": "X7rFhBo3Tepd"
   },
   "source": [
    "Как вы оцениваете качество построенной модели? Какие проблемы могут здесь присутствовать? Как можно улучшить результат?\n",
    "\n",
    "\n",
    "Подозрительно хорошие результаты на тесте.\n",
    "Где ошибка- не пойму пока.\n"
   ]
  },
  {
   "cell_type": "markdown",
   "metadata": {
    "colab_type": "text",
    "id": "O49s_Xibrz_v"
   },
   "source": [
    "# Drafft"
   ]
  },
  {
   "cell_type": "code",
   "execution_count": null,
   "metadata": {
    "colab": {},
    "colab_type": "code",
    "id": "Pmz3mNU6D-3k"
   },
   "outputs": [],
   "source": [
    "# pip install hyperopt"
   ]
  },
  {
   "cell_type": "code",
   "execution_count": null,
   "metadata": {
    "colab": {},
    "colab_type": "code",
    "id": "F6VV0ifjmvqV"
   },
   "outputs": [],
   "source": [
    "# Отбор признаков (Feature Importance)\n",
    "\n",
    "importance_type = ['total_gain', 'gain', 'weight', 'total_cover', 'cover']\n",
    "xgb.plot_importance(xgb_model, importance_type=importance_type[0]); plt.show()"
   ]
  },
  {
   "cell_type": "code",
   "execution_count": null,
   "metadata": {
    "colab": {},
    "colab_type": "code",
    "id": "bUerw0tUpulj"
   },
   "outputs": [],
   "source": [
    "# Отбор признаков (Feature Importance)\n",
    "\n",
    "importance_type = ['total_gain', 'gain', 'weight', 'total_cover', 'cover']\n",
    "xgb.plot_importance(xgb_model, importance_type=importance_type[0]); plt.show()"
   ]
  },
  {
   "cell_type": "code",
   "execution_count": null,
   "metadata": {
    "colab": {},
    "colab_type": "code",
    "id": "Bm1TktYD_dZT"
   },
   "outputs": [],
   "source": [
    "!pip install eli5"
   ]
  },
  {
   "cell_type": "code",
   "execution_count": null,
   "metadata": {
    "colab": {},
    "colab_type": "code",
    "id": "3JfR--34-ND3"
   },
   "outputs": [],
   "source": [
    "import eli5"
   ]
  },
  {
   "cell_type": "code",
   "execution_count": null,
   "metadata": {
    "colab": {},
    "colab_type": "code",
    "id": "ByKzDyCY-M49"
   },
   "outputs": [],
   "source": [
    "eli5.show_weights(xgb_model)"
   ]
  }
 ],
 "metadata": {
  "accelerator": "GPU",
  "colab": {
   "collapsed_sections": [],
   "name": "HW_08_0405.ipynb",
   "private_outputs": true,
   "provenance": [],
   "toc_visible": true
  },
  "kernelspec": {
   "display_name": "Python 3",
   "language": "python",
   "name": "python3"
  },
  "language_info": {
   "codemirror_mode": {
    "name": "ipython",
    "version": 3
   },
   "file_extension": ".py",
   "mimetype": "text/x-python",
   "name": "python",
   "nbconvert_exporter": "python",
   "pygments_lexer": "ipython3",
   "version": "3.7.3"
  }
 },
 "nbformat": 4,
 "nbformat_minor": 4
}
