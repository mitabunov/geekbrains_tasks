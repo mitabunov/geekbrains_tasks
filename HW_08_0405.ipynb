{
  "nbformat": 4,
  "nbformat_minor": 0,
  "metadata": {
    "colab": {
      "name": "HW_08_0405.ipynb",
      "provenance": [],
      "private_outputs": true,
      "collapsed_sections": [],
      "toc_visible": true
    },
    "kernelspec": {
      "display_name": "Python 3",
      "language": "python",
      "name": "python3"
    },
    "language_info": {
      "codemirror_mode": {
        "name": "ipython",
        "version": 3
      },
      "file_extension": ".py",
      "mimetype": "text/x-python",
      "name": "python",
      "nbconvert_exporter": "python",
      "pygments_lexer": "ipython3",
      "version": "3.7.3"
    },
    "accelerator": "GPU"
  },
  "cells": [
    {
      "cell_type": "markdown",
      "metadata": {
        "colab_type": "text",
        "id": "Xljx8j0-_jXR"
      },
      "source": [
        "### * Домашнее задание: Многоклассовая классификация"
      ]
    },
    {
      "cell_type": "code",
      "metadata": {
        "id": "GTEN0WUXEKEN",
        "colab_type": "code",
        "colab": {}
      },
      "source": [
        "from google.colab import drive\n",
        "drive.mount('/content/drive')"
      ],
      "execution_count": 0,
      "outputs": []
    },
    {
      "cell_type": "code",
      "metadata": {
        "colab_type": "code",
        "id": "n98J3UNxSLUd",
        "colab": {}
      },
      "source": [
        "import pandas as pd\n",
        "import numpy as np\n",
        "import xgboost as xgb\n",
        "import matplotlib.pyplot as plt\n",
        "from sklearn.model_selection import train_test_split\n",
        "from sklearn.metrics import f1_score, accuracy_score, confusion_matrix\n",
        "from hyperopt import hp, tpe, space_eval\n",
        "from hyperopt.fmin import fmin\n",
        "\n"
      ],
      "execution_count": 0,
      "outputs": []
    },
    {
      "cell_type": "code",
      "metadata": {
        "colab_type": "code",
        "id": "DXp3cnrtXKh-",
        "colab": {}
      },
      "source": [
        "\n",
        "import itertools\n",
        "import warnings\n",
        "warnings.simplefilter('ignore')"
      ],
      "execution_count": 0,
      "outputs": []
    },
    {
      "cell_type": "markdown",
      "metadata": {
        "colab_type": "text",
        "id": "HrxZEq_-FHNq"
      },
      "source": [
        "## Предобработка данных"
      ]
    },
    {
      "cell_type": "code",
      "metadata": {
        "colab_type": "code",
        "id": "_Vs8YR9eFgvy",
        "colab": {}
      },
      "source": [
        "# Загрузим набор данных\n",
        "\n",
        "df = pd.read_csv('/content/drive/My Drive/Colab Notebooks/freMPL-R.csv', low_memory=False)\n",
        "df = df.loc[df.Dataset.isin([5, 6, 7, 8, 9])]\n",
        "df.drop('Dataset', axis=1, inplace=True)\n",
        "df.dropna(axis=1, how='all', inplace=True)\n",
        "df.drop_duplicates(inplace=True)\n",
        "df.reset_index(drop=True, inplace=True)\n",
        "df.info()"
      ],
      "execution_count": 0,
      "outputs": []
    },
    {
      "cell_type": "code",
      "metadata": {
        "colab_type": "code",
        "id": "AklwJWsoWnAV",
        "colab": {}
      },
      "source": [
        "NegClaimAmount = df.loc[df.ClaimAmount < 0, ['ClaimAmount','ClaimInd']]\n",
        "print('Unique values of ClaimInd:', NegClaimAmount.ClaimInd.unique())\n",
        "NegClaimAmount.head()"
      ],
      "execution_count": 0,
      "outputs": []
    },
    {
      "cell_type": "code",
      "metadata": {
        "colab_type": "code",
        "id": "R7laRWoCYF4V",
        "colab": {}
      },
      "source": [
        "df.loc[df.ClaimAmount < 0, 'ClaimAmount'] = 0"
      ],
      "execution_count": 0,
      "outputs": []
    },
    {
      "cell_type": "markdown",
      "metadata": {
        "colab_type": "text",
        "id": "6VuWyv7EGONj"
      },
      "source": [
        "Перекодируем переменные типа `object` с помощью числовых значений"
      ]
    },
    {
      "cell_type": "code",
      "metadata": {
        "colab_type": "code",
        "id": "yivIrqGaGbSa",
        "colab": {}
      },
      "source": [
        "def SeriesFactorizer(series):\n",
        "    series, unique = pd.factorize(series)\n",
        "    reference = {x: i for x, i in enumerate(unique)}\n",
        "    print(reference)\n",
        "    return series, reference"
      ],
      "execution_count": 0,
      "outputs": []
    },
    {
      "cell_type": "code",
      "metadata": {
        "colab_type": "code",
        "id": "G3SgrIBXGe3J",
        "colab": {}
      },
      "source": [
        "df.Gender, GenderRef = SeriesFactorizer(df.Gender)"
      ],
      "execution_count": 0,
      "outputs": []
    },
    {
      "cell_type": "code",
      "metadata": {
        "colab_type": "code",
        "id": "HD6_Ie-2GggO",
        "colab": {}
      },
      "source": [
        "df.MariStat, MariStatRef = SeriesFactorizer(df.MariStat)"
      ],
      "execution_count": 0,
      "outputs": []
    },
    {
      "cell_type": "markdown",
      "metadata": {
        "colab_type": "text",
        "id": "ZdTe9JpiGvt9"
      },
      "source": [
        "Для переменных, содержащих более 2 значений, различия между которыми не могут упорядочены, используем фиктивные переменные (one-hot encoding)."
      ]
    },
    {
      "cell_type": "code",
      "metadata": {
        "colab_type": "code",
        "id": "VrN99Iv8Ht-G",
        "colab": {}
      },
      "source": [
        "list(df.VehUsage.unique())"
      ],
      "execution_count": 0,
      "outputs": []
    },
    {
      "cell_type": "code",
      "metadata": {
        "colab_type": "code",
        "id": "WXfZa7lUH0Jf",
        "colab": {}
      },
      "source": [
        "VU_dummies = pd.get_dummies(df.VehUsage, prefix='VehUsg', drop_first=False)\n",
        "VU_dummies.head()"
      ],
      "execution_count": 0,
      "outputs": []
    },
    {
      "cell_type": "markdown",
      "metadata": {
        "colab_type": "text",
        "id": "vSlx8FxWH9P2"
      },
      "source": [
        "Фактор \"SocioCateg\" содержит информацию о социальной категории в виде кодов классификации CSP. Агрегируем имеющиеся коды до 1 знака, а затем закодируем их с помощью one-hot encoding.\n",
        "\n",
        "[Wiki](https://fr.wikipedia.org/wiki/Professions_et_cat%C3%A9gories_socioprofessionnelles_en_France#Cr%C3%A9ation_de_la_nomenclature_des_PCS)\n",
        "\n",
        "[Более подробный классификатор](https://www.ast74.fr/upload/administratif/liste-des-codes-csp-copie.pdf)"
      ]
    },
    {
      "cell_type": "code",
      "metadata": {
        "colab_type": "code",
        "id": "gbAPu6XeH9nj",
        "colab": {}
      },
      "source": [
        "df['SocioCateg'] = df.SocioCateg.str.slice(0,4)"
      ],
      "execution_count": 0,
      "outputs": []
    },
    {
      "cell_type": "code",
      "metadata": {
        "colab_type": "code",
        "id": "MGljfdnMJxXj",
        "colab": {}
      },
      "source": [
        "pd.DataFrame(df.SocioCateg.value_counts().sort_values()).rename({'SocioCateg': 'Frequency'}, axis=1)"
      ],
      "execution_count": 0,
      "outputs": []
    },
    {
      "cell_type": "code",
      "metadata": {
        "colab_type": "code",
        "id": "zPfpFjNiKHtj",
        "colab": {}
      },
      "source": [
        "df = pd.get_dummies(df, columns=['VehUsage','SocioCateg'])"
      ],
      "execution_count": 0,
      "outputs": []
    },
    {
      "cell_type": "markdown",
      "metadata": {
        "colab_type": "text",
        "id": "xuMe7c-wKT3H"
      },
      "source": [
        "Теперь, когда большинство переменных типа `object` обработаны, исключим их из набора данных за ненадобностью."
      ]
    },
    {
      "cell_type": "code",
      "metadata": {
        "colab_type": "code",
        "id": "HBbmRHUFKRql",
        "colab": {}
      },
      "source": [
        "df = df.select_dtypes(exclude=['object'])"
      ],
      "execution_count": 0,
      "outputs": []
    },
    {
      "cell_type": "markdown",
      "metadata": {
        "colab_type": "text",
        "id": "hImLBMF2GYZT"
      },
      "source": [
        "Также создадим такую переменную, как квадрат возраста."
      ]
    },
    {
      "cell_type": "code",
      "metadata": {
        "colab_type": "code",
        "id": "sWLXCS4AGY3_",
        "colab": {}
      },
      "source": [
        "df['DrivAgeSq'] = df.DrivAge.apply(lambda x: x**2)\n",
        "df.head()"
      ],
      "execution_count": 0,
      "outputs": []
    },
    {
      "cell_type": "markdown",
      "metadata": {
        "colab_type": "text",
        "id": "XE_3dSsW3J3X"
      },
      "source": [
        "Для моделирования частоты убытков сгенерируем показатель как сумму индикатора того, что убыток произошел (\"ClaimInd\") и количества заявленных убытков по различным видам ущерба за 4 предшествующих года (\"ClaimNbResp\", \"ClaimNbNonResp\", \"ClaimNbParking\", \"ClaimNbFireTheft\", \"ClaimNbWindscreen\").\n",
        "\n",
        "В случаях, если соответствующая величина убытка равняется нулю, сгенерированную частоту также обнулим."
      ]
    },
    {
      "cell_type": "code",
      "metadata": {
        "colab_type": "code",
        "id": "R6rz5Oko3rbr",
        "colab": {}
      },
      "source": [
        "df['ClaimsCount'] = df.ClaimInd + df.ClaimNbResp + df.ClaimNbNonResp + df.ClaimNbParking + df.ClaimNbFireTheft + df.ClaimNbWindscreen\n",
        "df.loc[df.ClaimAmount == 0, 'ClaimsCount'] = 0\n",
        "df.drop([\"ClaimNbResp\", \"ClaimNbNonResp\", \"ClaimNbParking\", \"ClaimNbFireTheft\", \"ClaimNbWindscreen\"], axis=1, inplace=True)"
      ],
      "execution_count": 0,
      "outputs": []
    },
    {
      "cell_type": "code",
      "metadata": {
        "colab_type": "code",
        "id": "cJ5_aqnx4FcZ",
        "colab": {}
      },
      "source": [
        "pd.DataFrame(df.ClaimsCount.value_counts()).rename({'ClaimsCount': 'Policies'}, axis=1)"
      ],
      "execution_count": 0,
      "outputs": []
    },
    {
      "cell_type": "code",
      "metadata": {
        "colab_type": "code",
        "id": "A0zvYuoZ4gcH",
        "colab": {}
      },
      "source": [
        "# import plotly.express as px\n",
        "# fig = px.bar(df, x='ClaimsCount', y='ClaimAmount', title='Зависимость между частотой и величиной убытков')\n",
        "# fig.show()"
      ],
      "execution_count": 0,
      "outputs": []
    },
    {
      "cell_type": "markdown",
      "metadata": {
        "colab_type": "text",
        "id": "iCZAeoll6xac"
      },
      "source": [
        "Добавляется  признак среднего убытка, как отношение величины убытков к их частоте."
      ]
    },
    {
      "cell_type": "code",
      "metadata": {
        "colab_type": "code",
        "id": "y9AKwYtU6x1i",
        "colab": {}
      },
      "source": [
        "dfAC = df[df.ClaimsCount > 0].copy()\n",
        "dfAC['AvgClaim'] = dfAC.ClaimAmount/dfAC.ClaimsCount"
      ],
      "execution_count": 0,
      "outputs": []
    },
    {
      "cell_type": "markdown",
      "metadata": {
        "colab_type": "text",
        "id": "2m1bibe9nMKp"
      },
      "source": [
        "XGBoost для многоклассовой классификации принимает на вход значения меток классов в виде `[0, num_classes]`. Заменим значение 11 на 10."
      ]
    },
    {
      "cell_type": "code",
      "metadata": {
        "id": "Dvk8FORRh7Ba",
        "colab_type": "code",
        "colab": {}
      },
      "source": [
        "\n"
      ],
      "execution_count": 0,
      "outputs": []
    },
    {
      "cell_type": "code",
      "metadata": {
        "id": "RpY4O8DObm3C",
        "colab_type": "code",
        "colab": {}
      },
      "source": [
        "df['ClaimsCount']=df['ClaimsCount'].replace(to_replace = 11., value =10.) \n",
        "\n",
        "df['ClaimsCount'].unique()"
      ],
      "execution_count": 0,
      "outputs": []
    },
    {
      "cell_type": "markdown",
      "metadata": {
        "colab_type": "text",
        "id": "BzM1998TZDPm"
      },
      "source": [
        "Заметим, что в данном случае присутствует проблема несбалансированности классов. Поэтому, для того, чтобы по возможности избежать ее, воспользуемся взвешиванием наблюдений для обучения модели. Для этого в исходном наборе данных создадим столбец `weight`. Присвоим ему некоторые значения, например, можно задать `0.05` для значений `ClaimsCount` 0, а для остальных - 1 (Для этого можем использовать функцию `np.where`). Также можно попробовать какой-либо другой способ задания весов, приведенный пример не гарантирует хороших результатов."
      ]
    },
    {
      "cell_type": "code",
      "metadata": {
        "colab_type": "code",
        "id": "dnL5LOi0i2oq",
        "colab": {}
      },
      "source": [
        "\n",
        "df['weight']= ((df['ClaimsCount'] / df['ClaimsCount'].sum())**1.2)*100000\n",
        "df.loc[df.ClaimsCount.isin([0]), 'weight'] = 0.05\n",
        "df.tail(10)\n",
        "\n",
        "# df_group_count['weight'] = df_group_count['ClaimsCount'].where(df_group_count['ClaimsCount'] < 1., 1.)\n",
        "# df_group_count.head()\n",
        "# weights = class_weight.compute_class_weight('balanced',\n",
        "#                                             df_f.ClaimsCount.unique(),\n",
        "#                                              df_f.ClaimsCount)\n",
        "# def make_weight (row):\n",
        "#    return weights[int(row['ClaimsCount'])]\n",
        "# df_f['weight'] = df_f.apply (lambda row: make_weight(row), axis=1)\n",
        "\n"
      ],
      "execution_count": 0,
      "outputs": []
    },
    {
      "cell_type": "markdown",
      "metadata": {
        "colab_type": "text",
        "id": "VpYxkXdrLD01"
      },
      "source": [
        "## Разделение набора данных на обучающую, валидационную и тестовую выборки"
      ]
    },
    {
      "cell_type": "code",
      "metadata": {
        "colab_type": "code",
        "id": "piO1n8o2LFAJ",
        "colab": {}
      },
      "source": [
        "from sklearn.model_selection import train_test_split"
      ],
      "execution_count": 0,
      "outputs": []
    },
    {
      "cell_type": "code",
      "metadata": {
        "id": "OxtoRDpYhGP6",
        "colab_type": "code",
        "colab": {}
      },
      "source": [
        "X = df.drop(columns=['Exposure', 'ClaimsCount'])\n",
        "y = df['ClaimsCount']\n"
      ],
      "execution_count": 0,
      "outputs": []
    },
    {
      "cell_type": "markdown",
      "metadata": {
        "colab_type": "text",
        "id": "sAlGTL0hBpNv"
      },
      "source": [
        "Разобьем имеющийся набор данных на обучающую, валидационную и тестовую выборки в отношениях 70%/15%/15% соответственно. Зададим зерно для случайного разбиения равным 10."
      ]
    },
    {
      "cell_type": "code",
      "metadata": {
        "colab_type": "code",
        "id": "dGvhYDXdLFoR",
        "colab": {}
      },
      "source": [
        "# Разбиение датасета для частоты на train/val/test\n",
        "\n",
        "x_train, x_test, y_train, y_test = train_test_split(X, y, test_size=0.3, random_state=10)\n",
        "x_valid, x_test, y_valid, y_test = train_test_split(x_test, y_test, test_size=0.5, random_state=10)"
      ],
      "execution_count": 0,
      "outputs": []
    },
    {
      "cell_type": "markdown",
      "metadata": {
        "colab_type": "text",
        "id": "PCySK2zQKsUI"
      },
      "source": [
        "Далее, создадим объекты `DMatrix` для обучающей, валидационной и тестовой выборок. Для обучающей выборки также укажем параметр `weight` равным полученному ранее столбцу весов. Данный столбец также нужно исключить из объекта передаваемого в параметр `data`."
      ]
    },
    {
      "cell_type": "code",
      "metadata": {
        "id": "s_fWnw-PhHQG",
        "colab_type": "code",
        "colab": {}
      },
      "source": [
        "xgb_train = xgb.DMatrix(x_train.drop(columns=['weight']).values,\n",
        "                        y_train.values,\n",
        "                        weight=x_train['weight'].values)\n",
        "\n",
        "xgb_valid = xgb.DMatrix(x_valid.drop(columns=['weight']).values,\n",
        "                        y_valid.values)\n",
        "\n",
        "xgb_test = xgb.DMatrix(x_test.drop(columns=['weight']).values,\n",
        "                       y_test.values)"
      ],
      "execution_count": 0,
      "outputs": []
    },
    {
      "cell_type": "code",
      "metadata": {
        "id": "O36I6wb0hHgF",
        "colab_type": "code",
        "colab": {}
      },
      "source": [
        "def objective(params):\n",
        "    parameters = {\n",
        "        'objective': 'multi:softmax',\n",
        "        'max_depth':  int(params['max_depth']),\n",
        "        'min_child_weight': params['min_child_weight'],\n",
        "        'subsample': params['subsample'],\n",
        "        'colsample_bytree': params['colsample_bytree'],\n",
        "        'eta': params['eta'],\n",
        "        'alpha': params['alpha'],\n",
        "        'lambda': params['lambda'],\n",
        "        'num_class': y.nunique()\n",
        "    }\n",
        "    \n",
        "    cv_result = xgb.cv(parameters, xgb_train, num_boost_round=int(params['num_boost_round']),\n",
        "                       nfold=5, metrics=['merror'], seed=21, maximize=False, early_stopping_rounds=10)\n",
        "    score = cv_result['test-merror-mean'][-1:].values[0]\n",
        "    return score"
      ],
      "execution_count": 0,
      "outputs": []
    },
    {
      "cell_type": "code",
      "metadata": {
        "id": "uZkfN-3whHb4",
        "colab_type": "code",
        "colab": {}
      },
      "source": [
        "space = {'num_boost_round': hp.quniform('num_boost_round', 50, 500, 1),\n",
        "         'max_depth': hp.choice('max_depth', [5, 8, 10, 12, 15]),\n",
        "         'min_child_weight': hp.uniform('min_child_weight', 0, 50),\n",
        "         'subsample': hp.uniform('subsample', 0.5, 1),\n",
        "         'colsample_bytree': hp.uniform('colsample_bytree', 0.5, 1),\n",
        "         'alpha': hp.uniform('alpha', 0.8, 1),\n",
        "         'lambda': hp.uniform('lambda', 0, 1),\n",
        "         'eta': hp.uniform('eta', 0.01, 1),\n",
        "         'num_class': 20\n",
        "        }\n"
      ],
      "execution_count": 0,
      "outputs": []
    },
    {
      "cell_type": "code",
      "metadata": {
        "id": "dWaotG1tjhOc",
        "colab_type": "code",
        "colab": {}
      },
      "source": [
        "best = fmin(fn=objective, space=space, algo=tpe.suggest, max_evals=10)"
      ],
      "execution_count": 0,
      "outputs": []
    },
    {
      "cell_type": "code",
      "metadata": {
        "id": "auqJLO-xmvWP",
        "colab_type": "code",
        "colab": {}
      },
      "source": [
        "best_params = space_eval(space, best)\n",
        "best_params['objective'] = 'multi:softmax'\n",
        "best_params"
      ],
      "execution_count": 0,
      "outputs": []
    },
    {
      "cell_type": "markdown",
      "metadata": {
        "id": "DIIvDdIzpkn_",
        "colab_type": "text"
      },
      "source": [
        "# Применение модели"
      ]
    },
    {
      "cell_type": "code",
      "metadata": {
        "id": "3ixZC9cr5HaI",
        "colab_type": "code",
        "colab": {}
      },
      "source": [
        "progress = dict()\n",
        "xgb_model = xgb.train(params=best_params, dtrain=xgb_train,\n",
        "                        maximize=False, evals=[(xgb_train, \"train\"),(xgb_valid, \"valid\")],\n",
        "                        early_stopping_rounds=10, evals_result=progress, verbose_eval=False)"
      ],
      "execution_count": 0,
      "outputs": []
    },
    {
      "cell_type": "markdown",
      "metadata": {
        "id": "q0Y3zIxLpGqP",
        "colab_type": "text"
      },
      "source": [
        "# Оценка результатов\n"
      ]
    },
    {
      "cell_type": "code",
      "metadata": {
        "id": "HZMx-q9BmvpI",
        "colab_type": "code",
        "colab": {}
      },
      "source": [
        "\n",
        "\n",
        "dfsets = [{'set': 'train', 'dmat': xgb_train, 'target': y_train},\n",
        "          {'set': 'valid', 'dmat': xgb_valid, 'target': y_valid},\n",
        "          {'set': 'test', 'dmat': xgb_test, 'target': y_test}]\n",
        "for dfset in dfsets:\n",
        "    class_preds = xgb_model.predict(dfset['dmat'])\n",
        "    print('F1 Score on ' + str(dfset['set'])+':', f1_score(dfset['target'], class_preds, average='micro')) \n",
        "    print('Accuracy on ' + str(dfset['set'])+':', accuracy_score(dfset['target'], class_preds)) \n",
        "    print('')\n",
        "\n"
      ],
      "execution_count": 0,
      "outputs": []
    },
    {
      "cell_type": "code",
      "metadata": {
        "id": "TjmeAfq3mvwv",
        "colab_type": "code",
        "colab": {}
      },
      "source": [
        "plt.subplots(1,3, figsize=(15,3))\n",
        "for i in range(len(dfsets)):\n",
        "    confmatrix = confusion_matrix(dfsets[i]['target'], xgb_model.predict(dfsets[i]['dmat']))\n",
        "    plt.subplot(1,3,i+1)\n",
        "    plt.imshow(confmatrix, cmap='Greys')\n",
        "    plt.colorbar()\n",
        "    plt.ylabel('True')\n",
        "    plt.xlabel('Predicted')\n",
        "plt.show()\n"
      ],
      "execution_count": 0,
      "outputs": []
    },
    {
      "cell_type": "markdown",
      "metadata": {
        "colab_type": "text",
        "id": "X7rFhBo3Tepd"
      },
      "source": [
        "Как вы оцениваете качество построенной модели? Какие проблемы могут здесь присутствовать? Как можно улучшить результат?\n",
        "\n",
        "\n",
        "Подозрительно хорошие результаты на тесте.\n",
        "Где ошибка- не пойму пока.\n"
      ]
    },
    {
      "cell_type": "markdown",
      "metadata": {
        "id": "O49s_Xibrz_v",
        "colab_type": "text"
      },
      "source": [
        "# Drafft"
      ]
    },
    {
      "cell_type": "code",
      "metadata": {
        "id": "Pmz3mNU6D-3k",
        "colab_type": "code",
        "colab": {}
      },
      "source": [
        "# pip install hyperopt"
      ],
      "execution_count": 0,
      "outputs": []
    },
    {
      "cell_type": "code",
      "metadata": {
        "colab_type": "code",
        "id": "F6VV0ifjmvqV",
        "colab": {}
      },
      "source": [
        "# Отбор признаков (Feature Importance)\n",
        "\n",
        "importance_type = ['total_gain', 'gain', 'weight', 'total_cover', 'cover']\n",
        "xgb.plot_importance(xgb_model, importance_type=importance_type[0]); plt.show()"
      ],
      "execution_count": 0,
      "outputs": []
    },
    {
      "cell_type": "code",
      "metadata": {
        "colab_type": "code",
        "id": "bUerw0tUpulj",
        "colab": {}
      },
      "source": [
        "# Отбор признаков (Feature Importance)\n",
        "\n",
        "importance_type = ['total_gain', 'gain', 'weight', 'total_cover', 'cover']\n",
        "xgb.plot_importance(xgb_model, importance_type=importance_type[0]); plt.show()"
      ],
      "execution_count": 0,
      "outputs": []
    },
    {
      "cell_type": "code",
      "metadata": {
        "colab_type": "code",
        "id": "Bm1TktYD_dZT",
        "colab": {}
      },
      "source": [
        "!pip install eli5"
      ],
      "execution_count": 0,
      "outputs": []
    },
    {
      "cell_type": "code",
      "metadata": {
        "colab_type": "code",
        "id": "3JfR--34-ND3",
        "colab": {}
      },
      "source": [
        "import eli5"
      ],
      "execution_count": 0,
      "outputs": []
    },
    {
      "cell_type": "code",
      "metadata": {
        "colab_type": "code",
        "id": "ByKzDyCY-M49",
        "colab": {}
      },
      "source": [
        "eli5.show_weights(xgb_model)"
      ],
      "execution_count": 0,
      "outputs": []
    }
  ]
}